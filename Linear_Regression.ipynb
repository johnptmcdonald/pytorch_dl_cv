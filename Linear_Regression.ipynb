{
 "cells": [
  {
   "cell_type": "code",
   "execution_count": 1,
   "metadata": {
    "colab": {
     "base_uri": "https://localhost:8080/",
     "height": 1020
    },
    "colab_type": "code",
    "id": "oHxQbKZci27E",
    "outputId": "703199c8-c579-4894-bd44-1bc1e8317fd1"
   },
   "outputs": [
    {
     "name": "stdout",
     "output_type": "stream",
     "text": [
      "Requirement already satisfied: torch in /Users/johnmcdonald/anaconda3/lib/python3.6/site-packages (1.0.0)\n",
      "\u001b[33mYou are using pip version 19.0.2, however version 19.0.3 is available.\n",
      "You should consider upgrading via the 'pip install --upgrade pip' command.\u001b[0m\n"
     ]
    }
   ],
   "source": [
    "!pip3 install torch"
   ]
  },
  {
   "cell_type": "code",
   "execution_count": 2,
   "metadata": {
    "colab": {},
    "colab_type": "code",
    "collapsed": true,
    "id": "g90d_JwFi8I7"
   },
   "outputs": [],
   "source": [
    "import torch\n",
    "import torch.nn as nn\n",
    "import matplotlib.pyplot as plt\n",
    "import numpy as np"
   ]
  },
  {
   "cell_type": "code",
   "execution_count": 15,
   "metadata": {
    "colab": {
     "base_uri": "https://localhost:8080/",
     "height": 378
    },
    "colab_type": "code",
    "id": "BkdXhIlXvKzM",
    "outputId": "9ea4075e-1585-4c9b-d057-4a948cb87611"
   },
   "outputs": [
    {
     "data": {
      "image/png": "[encoded data removed]",
      "text/plain": [
       "<matplotlib.figure.Figure at 0x112bdfb70>"
      ]
     },
     "metadata": {},
     "output_type": "display_data"
    }
   ],
   "source": [
    "X = torch.randn(100, 1)*10\n",
    "y = X + 3*torch.randn(100, 1)\n",
    "plt.plot(X.numpy(), y.numpy(), 'o')\n",
    "plt.ylabel('y')\n",
    "plt.xlabel('x')\n",
    "plt.show()"
   ]
  },
  {
   "cell_type": "code",
   "execution_count": 16,
   "metadata": {
    "colab": {},
    "colab_type": "code",
    "collapsed": true,
    "id": "Voo3RX1IYz21"
   },
   "outputs": [],
   "source": [
    "class LR(nn.Module):\n",
    "  def __init__(self, input_size, output_size):\n",
    "    super().__init__()\n",
    "    self.linear = nn.Linear(input_size, output_size)\n",
    "  def forward(self, x):\n",
    "    pred = self.linear(x)\n",
    "    return pred"
   ]
  },
  {
   "cell_type": "code",
   "execution_count": 17,
   "metadata": {
    "colab": {
     "base_uri": "https://localhost:8080/",
     "height": 68
    },
    "colab_type": "code",
    "id": "PeyVS6V_aBfy",
    "outputId": "84dbdbae-8cd6-4d39-ac3b-862c9c0df5c9"
   },
   "outputs": [
    {
     "name": "stdout",
     "output_type": "stream",
     "text": [
      "LR(\n",
      "  (linear): Linear(in_features=1, out_features=1, bias=True)\n",
      ")\n"
     ]
    }
   ],
   "source": [
    "torch.manual_seed(1)\n",
    "model = LR(1, 1)\n",
    "print(model)"
   ]
  },
  {
   "cell_type": "code",
   "execution_count": 18,
   "metadata": {
    "colab": {},
    "colab_type": "code",
    "collapsed": true,
    "id": "e1HHLRTbaeZF"
   },
   "outputs": [],
   "source": [
    "[w, b] = model.parameters()\n",
    "def get_params():\n",
    "  return (w[0][0].item(), b[0].item())"
   ]
  },
  {
   "cell_type": "code",
   "execution_count": 19,
   "metadata": {
    "colab": {},
    "colab_type": "code",
    "collapsed": true,
    "id": "x1bjDI3vxEmd"
   },
   "outputs": [],
   "source": [
    "def plot_fit(title):\n",
    "  plt.title = title\n",
    "  w1, b1 = get_params()\n",
    "  x1 = np.array([-30, 30])\n",
    "  y1 = w1*x1 + b1\n",
    "  plt.plot(x1, y1, 'r')\n",
    "  plt.scatter(X, y)\n",
    "  plt.show()"
   ]
  },
  {
   "cell_type": "code",
   "execution_count": 20,
   "metadata": {
    "colab": {
     "base_uri": "https://localhost:8080/",
     "height": 347
    },
    "colab_type": "code",
    "id": "wYEJKbTEy2Ci",
    "outputId": "162542b8-3a08-4cdf-c8d3-74f6670f0eb7"
   },
   "outputs": [
    {
     "data": {
      "image/png": "[encoded data removed]",
      "text/plain": [
       "<matplotlib.figure.Figure at 0x11cf84390>"
      ]
     },
     "metadata": {},
     "output_type": "display_data"
    }
   ],
   "source": [
    "plot_fit('Initial Model')"
   ]
  },
  {
   "cell_type": "code",
   "execution_count": 25,
   "metadata": {
    "colab": {},
    "colab_type": "code",
    "collapsed": true,
    "id": "4Z9-HIA0y5S7"
   },
   "outputs": [],
   "source": [
    "criterion = nn.MSELoss()\n",
    "optimizer = torch.optim.SGD(model.parameters(), lr = 0.01)"
   ]
  },
  {
   "cell_type": "code",
   "execution_count": 26,
   "metadata": {
    "colab": {
     "base_uri": "https://localhost:8080/",
     "height": 1717
    },
    "colab_type": "code",
    "id": "wu4Qzn3PCeJ9",
    "outputId": "bcdc1419-824e-4bd5-d697-a66955589708"
   },
   "outputs": [
    {
     "name": "stdout",
     "output_type": "stream",
     "text": [
      "epoch: 0 loss: 8.412287712097168\n",
      "epoch: 1 loss: 8.411371231079102\n",
      "epoch: 2 loss: 8.410490036010742\n",
      "epoch: 3 loss: 8.409643173217773\n",
      "epoch: 4 loss: 8.408828735351562\n",
      "epoch: 5 loss: 8.40804672241211\n",
      "epoch: 6 loss: 8.407294273376465\n",
      "epoch: 7 loss: 8.406572341918945\n",
      "epoch: 8 loss: 8.405877113342285\n",
      "epoch: 9 loss: 8.4052095413208\n",
      "epoch: 10 loss: 8.40456771850586\n",
      "epoch: 11 loss: 8.403950691223145\n",
      "epoch: 12 loss: 8.40335750579834\n",
      "epoch: 13 loss: 8.402788162231445\n",
      "epoch: 14 loss: 8.402240753173828\n",
      "epoch: 15 loss: 8.401714324951172\n",
      "epoch: 16 loss: 8.40120792388916\n",
      "epoch: 17 loss: 8.400721549987793\n",
      "epoch: 18 loss: 8.400254249572754\n",
      "epoch: 19 loss: 8.399805068969727\n",
      "epoch: 20 loss: 8.399373054504395\n",
      "epoch: 21 loss: 8.398958206176758\n",
      "epoch: 22 loss: 8.3985595703125\n",
      "epoch: 23 loss: 8.398176193237305\n",
      "epoch: 24 loss: 8.397807121276855\n",
      "epoch: 25 loss: 8.397453308105469\n",
      "epoch: 26 loss: 8.397112846374512\n",
      "epoch: 27 loss: 8.396785736083984\n",
      "epoch: 28 loss: 8.39647102355957\n",
      "epoch: 29 loss: 8.39616870880127\n",
      "epoch: 30 loss: 8.395877838134766\n",
      "epoch: 31 loss: 8.395599365234375\n",
      "epoch: 32 loss: 8.395330429077148\n",
      "epoch: 33 loss: 8.395071983337402\n",
      "epoch: 34 loss: 8.394824028015137\n",
      "epoch: 35 loss: 8.394586563110352\n",
      "epoch: 36 loss: 8.394356727600098\n",
      "epoch: 37 loss: 8.394136428833008\n",
      "epoch: 38 loss: 8.393924713134766\n",
      "epoch: 39 loss: 8.393721580505371\n",
      "epoch: 40 loss: 8.393527030944824\n",
      "epoch: 41 loss: 8.393338203430176\n",
      "epoch: 42 loss: 8.393157958984375\n",
      "epoch: 43 loss: 8.392984390258789\n",
      "epoch: 44 loss: 8.392817497253418\n",
      "epoch: 45 loss: 8.392657279968262\n",
      "epoch: 46 loss: 8.392502784729004\n",
      "epoch: 47 loss: 8.392354965209961\n",
      "epoch: 48 loss: 8.392212867736816\n",
      "epoch: 49 loss: 8.392075538635254\n",
      "epoch: 50 loss: 8.39194393157959\n",
      "epoch: 51 loss: 8.391818046569824\n",
      "epoch: 52 loss: 8.391695976257324\n",
      "epoch: 53 loss: 8.391578674316406\n",
      "epoch: 54 loss: 8.391467094421387\n",
      "epoch: 55 loss: 8.391359329223633\n",
      "epoch: 56 loss: 8.391255378723145\n",
      "epoch: 57 loss: 8.391155242919922\n",
      "epoch: 58 loss: 8.391060829162598\n",
      "epoch: 59 loss: 8.390968322753906\n",
      "epoch: 60 loss: 8.39087963104248\n",
      "epoch: 61 loss: 8.39079475402832\n",
      "epoch: 62 loss: 8.390713691711426\n",
      "epoch: 63 loss: 8.390634536743164\n",
      "epoch: 64 loss: 8.390559196472168\n",
      "epoch: 65 loss: 8.390486717224121\n",
      "epoch: 66 loss: 8.390417098999023\n",
      "epoch: 67 loss: 8.390351295471191\n",
      "epoch: 68 loss: 8.390286445617676\n",
      "epoch: 69 loss: 8.390225410461426\n",
      "epoch: 70 loss: 8.390167236328125\n",
      "epoch: 71 loss: 8.39011001586914\n",
      "epoch: 72 loss: 8.390056610107422\n",
      "epoch: 73 loss: 8.390006065368652\n",
      "epoch: 74 loss: 8.3899564743042\n",
      "epoch: 75 loss: 8.389910697937012\n",
      "epoch: 76 loss: 8.389867782592773\n",
      "epoch: 77 loss: 8.389826774597168\n",
      "epoch: 78 loss: 8.389789581298828\n",
      "epoch: 79 loss: 8.389754295349121\n",
      "epoch: 80 loss: 8.38972282409668\n",
      "epoch: 81 loss: 8.389695167541504\n",
      "epoch: 82 loss: 8.389673233032227\n",
      "epoch: 83 loss: 8.389656066894531\n",
      "epoch: 84 loss: 8.38964557647705\n",
      "epoch: 85 loss: 8.389640808105469\n",
      "epoch: 86 loss: 8.389647483825684\n",
      "epoch: 87 loss: 8.389665603637695\n",
      "epoch: 88 loss: 8.389695167541504\n",
      "epoch: 89 loss: 8.38974380493164\n",
      "epoch: 90 loss: 8.389814376831055\n",
      "epoch: 91 loss: 8.389911651611328\n",
      "epoch: 92 loss: 8.390042304992676\n",
      "epoch: 93 loss: 8.390217781066895\n",
      "epoch: 94 loss: 8.390446662902832\n",
      "epoch: 95 loss: 8.39074420928955\n",
      "epoch: 96 loss: 8.391128540039062\n",
      "epoch: 97 loss: 8.391622543334961\n",
      "epoch: 98 loss: 8.392256736755371\n",
      "epoch: 99 loss: 8.39306640625\n"
     ]
    }
   ],
   "source": [
    "epochs = 100\n",
    "losses = []\n",
    "for i in range(epochs):\n",
    "  y_pred = model.forward(X)\n",
    "  loss = criterion(y_pred, y)\n",
    "  print(\"epoch:\", i, \"loss:\", loss.item())\n",
    "  \n",
    "  losses.append(loss)\n",
    "  optimizer.zero_grad()\n",
    "  loss.backward()\n",
    "  optimizer.step()"
   ]
  },
  {
   "cell_type": "code",
   "execution_count": 27,
   "metadata": {
    "colab": {
     "base_uri": "https://localhost:8080/",
     "height": 378
    },
    "colab_type": "code",
    "id": "j3D-8o6MDXO9",
    "outputId": "dcbebc38-7284-43f1-d61b-afa252244857"
   },
   "outputs": [
    {
     "data": {
      "image/png": "[encoded data removed]",
      "text/plain": [
       "<matplotlib.figure.Figure at 0x122925a58>"
      ]
     },
     "metadata": {},
     "output_type": "display_data"
    }
   ],
   "source": [
    "plt.plot(range(epochs), losses)\n",
    "plt.ylabel('Loss')\n",
    "plt.xlabel('epoch')\n",
    "plt.show()"
   ]
  },
  {
   "cell_type": "code",
   "execution_count": 28,
   "metadata": {
    "colab": {
     "base_uri": "https://localhost:8080/",
     "height": 347
    },
    "colab_type": "code",
    "id": "VwsPWhWJFONF",
    "outputId": "99806a4f-2eca-465e-d166-ae39ea701b32"
   },
   "outputs": [
    {
     "data": {
      "image/png": "[encoded data removed]",
      "text/plain": [
       "<matplotlib.figure.Figure at 0x122938320>"
      ]
     },
     "metadata": {},
     "output_type": "display_data"
    }
   ],
   "source": [
    "plot_fit(\"Trained Model\")"
   ]
  },
  {
   "cell_type": "code",
   "execution_count": 0,
   "metadata": {
    "colab": {},
    "colab_type": "code",
    "collapsed": true,
    "id": "Eyc77EKUFYgZ"
   },
   "outputs": [],
   "source": []
  }
 ],
 "metadata": {
  "colab": {
   "name": "Linear Regression.ipynb",
   "provenance": [],
   "version": "0.3.2"
  },
  "kernelspec": {
   "display_name": "Python 3",
   "language": "python",
   "name": "python3"
  },
  "language_info": {
   "codemirror_mode": {
    "name": "ipython",
    "version": 3
   },
   "file_extension": ".py",
   "mimetype": "text/x-python",
   "name": "python",
   "nbconvert_exporter": "python",
   "pygments_lexer": "ipython3",
   "version": "3.6.7"
  }
 },
 "nbformat": 4,
 "nbformat_minor": 1
}
