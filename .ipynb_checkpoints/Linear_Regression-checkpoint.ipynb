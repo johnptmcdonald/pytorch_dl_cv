{
 "cells": [
  {
   "cell_type": "code",
   "execution_count": 28,
   "metadata": {
    "colab": {
     "base_uri": "https://localhost:8080/",
     "height": 1020
    },
    "colab_type": "code",
    "id": "oHxQbKZci27E",
    "outputId": "703199c8-c579-4894-bd44-1bc1e8317fd1"
   },
   "outputs": [
    {
     "name": "stdout",
     "output_type": "stream",
     "text": [
      "Requirement already satisfied: torch in /Users/johnmcdonald/anaconda3/lib/python3.6/site-packages (1.0.0)\n",
      "\u001b[33mYou are using pip version 19.0.2, however version 19.0.3 is available.\n",
      "You should consider upgrading via the 'pip install --upgrade pip' command.\u001b[0m\n"
     ]
    }
   ],
   "source": [
    "!pip3 install torch"
   ]
  },
  {
   "cell_type": "code",
   "execution_count": 29,
   "metadata": {
    "colab": {},
    "colab_type": "code",
    "collapsed": true,
    "id": "g90d_JwFi8I7"
   },
   "outputs": [],
   "source": [
    "import torch\n",
    "import torch.nn as nn\n",
    "import matplotlib.pyplot as plt\n",
    "import numpy as np"
   ]
  },
  {
   "cell_type": "code",
   "execution_count": 30,
   "metadata": {
    "colab": {
     "base_uri": "https://localhost:8080/",
     "height": 378
    },
    "colab_type": "code",
    "id": "BkdXhIlXvKzM",
    "outputId": "9ea4075e-1585-4c9b-d057-4a948cb87611"
   },
   "outputs": [
    {
     "data": {
      "text/plain": [
       "Text(0.5,0,'x')"
      ]
     },
     "execution_count": 30,
     "metadata": {},
     "output_type": "execute_result"
    }
   ],
   "source": [
    "X = torch.randn(100, 1)*10\n",
    "y = X + 3*torch.randn(100, 1)\n",
    "plt.plot(X.numpy(), y.numpy(), 'o')\n",
    "plt.ylabel('y')\n",
    "plt.xlabel('x')"
   ]
  },
  {
   "cell_type": "code",
   "execution_count": 31,
   "metadata": {
    "colab": {},
    "colab_type": "code",
    "collapsed": true,
    "id": "Voo3RX1IYz21"
   },
   "outputs": [],
   "source": [
    "class LR(nn.Module):\n",
    "  def __init__(self, input_size, output_size):\n",
    "    super().__init__()\n",
    "    self.linear = nn.Linear(input_size, output_size)\n",
    "  def forward(self, x):\n",
    "    pred = self.linear(x)\n",
    "    return pred"
   ]
  },
  {
   "cell_type": "code",
   "execution_count": 32,
   "metadata": {
    "colab": {
     "base_uri": "https://localhost:8080/",
     "height": 68
    },
    "colab_type": "code",
    "id": "PeyVS6V_aBfy",
    "outputId": "84dbdbae-8cd6-4d39-ac3b-862c9c0df5c9"
   },
   "outputs": [
    {
     "name": "stdout",
     "output_type": "stream",
     "text": [
      "LR(\n",
      "  (linear): Linear(in_features=1, out_features=1, bias=True)\n",
      ")\n"
     ]
    }
   ],
   "source": [
    "torch.manual_seed(1)\n",
    "model = LR(1, 1)\n",
    "print(model)"
   ]
  },
  {
   "cell_type": "code",
   "execution_count": 33,
   "metadata": {
    "colab": {},
    "colab_type": "code",
    "collapsed": true,
    "id": "e1HHLRTbaeZF"
   },
   "outputs": [],
   "source": [
    "[w, b] = model.parameters()\n",
    "def get_params():\n",
    "  return (w[0][0].item(), b[0].item())"
   ]
  },
  {
   "cell_type": "code",
   "execution_count": 34,
   "metadata": {
    "colab": {},
    "colab_type": "code",
    "collapsed": true,
    "id": "x1bjDI3vxEmd"
   },
   "outputs": [],
   "source": [
    "def plot_fit(title):\n",
    "  plt.title = title\n",
    "  w1, b1 = get_params()\n",
    "  x1 = np.array([-30, 30])\n",
    "  y1 = w1*x1 + b1\n",
    "  plt.plot(x1, y1, 'r')\n",
    "  plt.scatter(X, y)\n",
    "  plt.show()"
   ]
  },
  {
   "cell_type": "code",
   "execution_count": 35,
   "metadata": {
    "colab": {
     "base_uri": "https://localhost:8080/",
     "height": 347
    },
    "colab_type": "code",
    "id": "wYEJKbTEy2Ci",
    "outputId": "162542b8-3a08-4cdf-c8d3-74f6670f0eb7"
   },
   "outputs": [
    {
     "data": {
      "image/png": "[encoded data removed]",
      "text/plain": [
       "<matplotlib.figure.Figure at 0x128fb87f0>"
      ]
     },
     "metadata": {},
     "output_type": "display_data"
    }
   ],
   "source": [
    "plot_fit('Initial Model')"
   ]
  },
  {
   "cell_type": "code",
   "execution_count": 38,
   "metadata": {
    "colab": {},
    "colab_type": "code",
    "collapsed": true,
    "id": "4Z9-HIA0y5S7"
   },
   "outputs": [],
   "source": [
    "criterion = nn.MSELoss()\n",
    "optimizer = torch.optim.SGD(model.parameters(), lr = 0.005)"
   ]
  },
  {
   "cell_type": "code",
   "execution_count": 39,
   "metadata": {
    "colab": {
     "base_uri": "https://localhost:8080/",
     "height": 1717
    },
    "colab_type": "code",
    "id": "wu4Qzn3PCeJ9",
    "outputId": "bcdc1419-824e-4bd5-d697-a66955589708"
   },
   "outputs": [
    {
     "name": "stdout",
     "output_type": "stream",
     "text": [
      "epoch: 0 loss: 621155647488.0\n",
      "epoch: 1 loss: 2485713408.0\n",
      "epoch: 2 loss: 9947342.0\n",
      "epoch: 3 loss: 39815.73046875\n",
      "epoch: 4 loss: 167.69300842285156\n",
      "epoch: 5 loss: 9.029207229614258\n",
      "epoch: 6 loss: 8.394211769104004\n",
      "epoch: 7 loss: 8.391613960266113\n",
      "epoch: 8 loss: 8.391546249389648\n",
      "epoch: 9 loss: 8.39148998260498\n",
      "epoch: 10 loss: 8.391435623168945\n",
      "epoch: 11 loss: 8.391382217407227\n",
      "epoch: 12 loss: 8.391329765319824\n",
      "epoch: 13 loss: 8.391278266906738\n",
      "epoch: 14 loss: 8.391227722167969\n",
      "epoch: 15 loss: 8.391178131103516\n",
      "epoch: 16 loss: 8.391129493713379\n",
      "epoch: 17 loss: 8.391081809997559\n",
      "epoch: 18 loss: 8.391035079956055\n",
      "epoch: 19 loss: 8.39098834991455\n",
      "epoch: 20 loss: 8.390944480895996\n",
      "epoch: 21 loss: 8.390900611877441\n",
      "epoch: 22 loss: 8.390856742858887\n",
      "epoch: 23 loss: 8.390814781188965\n",
      "epoch: 24 loss: 8.390772819519043\n",
      "epoch: 25 loss: 8.390732765197754\n",
      "epoch: 26 loss: 8.390692710876465\n",
      "epoch: 27 loss: 8.390653610229492\n",
      "epoch: 28 loss: 8.390615463256836\n",
      "epoch: 29 loss: 8.390578269958496\n",
      "epoch: 30 loss: 8.39054012298584\n",
      "epoch: 31 loss: 8.390504837036133\n",
      "epoch: 32 loss: 8.390469551086426\n",
      "epoch: 33 loss: 8.390434265136719\n",
      "epoch: 34 loss: 8.390399932861328\n",
      "epoch: 35 loss: 8.390366554260254\n",
      "epoch: 36 loss: 8.390334129333496\n",
      "epoch: 37 loss: 8.390302658081055\n",
      "epoch: 38 loss: 8.390270233154297\n",
      "epoch: 39 loss: 8.390239715576172\n",
      "epoch: 40 loss: 8.390209197998047\n",
      "epoch: 41 loss: 8.390180587768555\n",
      "epoch: 42 loss: 8.390151023864746\n",
      "epoch: 43 loss: 8.390122413635254\n",
      "epoch: 44 loss: 8.390093803405762\n",
      "epoch: 45 loss: 8.390067100524902\n",
      "epoch: 46 loss: 8.390039443969727\n",
      "epoch: 47 loss: 8.390013694763184\n",
      "epoch: 48 loss: 8.38998794555664\n",
      "epoch: 49 loss: 8.389963150024414\n",
      "epoch: 50 loss: 8.389937400817871\n",
      "epoch: 51 loss: 8.389913558959961\n",
      "epoch: 52 loss: 8.38988971710205\n",
      "epoch: 53 loss: 8.38986587524414\n",
      "epoch: 54 loss: 8.389842987060547\n",
      "epoch: 55 loss: 8.389820098876953\n",
      "epoch: 56 loss: 8.389798164367676\n",
      "epoch: 57 loss: 8.389776229858398\n",
      "epoch: 58 loss: 8.389755249023438\n",
      "epoch: 59 loss: 8.389734268188477\n",
      "epoch: 60 loss: 8.389714241027832\n",
      "epoch: 61 loss: 8.389694213867188\n",
      "epoch: 62 loss: 8.389674186706543\n",
      "epoch: 63 loss: 8.389655113220215\n",
      "epoch: 64 loss: 8.389636993408203\n",
      "epoch: 65 loss: 8.389617919921875\n",
      "epoch: 66 loss: 8.389599800109863\n",
      "epoch: 67 loss: 8.389581680297852\n",
      "epoch: 68 loss: 8.389564514160156\n",
      "epoch: 69 loss: 8.389547348022461\n",
      "epoch: 70 loss: 8.389531135559082\n",
      "epoch: 71 loss: 8.389513969421387\n",
      "epoch: 72 loss: 8.389498710632324\n",
      "epoch: 73 loss: 8.389482498168945\n",
      "epoch: 74 loss: 8.389467239379883\n",
      "epoch: 75 loss: 8.38945198059082\n",
      "epoch: 76 loss: 8.389436721801758\n",
      "epoch: 77 loss: 8.389422416687012\n",
      "epoch: 78 loss: 8.389408111572266\n",
      "epoch: 79 loss: 8.38939380645752\n",
      "epoch: 80 loss: 8.38938045501709\n",
      "epoch: 81 loss: 8.38936710357666\n",
      "epoch: 82 loss: 8.38935375213623\n",
      "epoch: 83 loss: 8.3893404006958\n",
      "epoch: 84 loss: 8.389328002929688\n",
      "epoch: 85 loss: 8.389315605163574\n",
      "epoch: 86 loss: 8.389303207397461\n",
      "epoch: 87 loss: 8.389290809631348\n",
      "epoch: 88 loss: 8.38927936553955\n",
      "epoch: 89 loss: 8.389267921447754\n",
      "epoch: 90 loss: 8.389256477355957\n",
      "epoch: 91 loss: 8.389245986938477\n",
      "epoch: 92 loss: 8.38923454284668\n",
      "epoch: 93 loss: 8.3892240524292\n",
      "epoch: 94 loss: 8.389213562011719\n",
      "epoch: 95 loss: 8.389204025268555\n",
      "epoch: 96 loss: 8.389193534851074\n",
      "epoch: 97 loss: 8.389183044433594\n",
      "epoch: 98 loss: 8.38917350769043\n",
      "epoch: 99 loss: 8.389163970947266\n"
     ]
    }
   ],
   "source": [
    "epochs = 100\n",
    "losses = []\n",
    "for i in range(epochs):\n",
    "  y_pred = model.forward(X)\n",
    "  loss = criterion(y_pred, y)\n",
    "  print(\"epoch:\", i, \"loss:\", loss.item())\n",
    "  \n",
    "  losses.append(loss)\n",
    "  optimizer.zero_grad()\n",
    "  loss.backward()\n",
    "  optimizer.step()"
   ]
  },
  {
   "cell_type": "code",
   "execution_count": 13,
   "metadata": {
    "colab": {
     "base_uri": "https://localhost:8080/",
     "height": 378
    },
    "colab_type": "code",
    "id": "j3D-8o6MDXO9",
    "outputId": "dcbebc38-7284-43f1-d61b-afa252244857"
   },
   "outputs": [
    {
     "data": {
      "text/plain": [
       "Text(0.5,0,'epoch')"
      ]
     },
     "execution_count": 13,
     "metadata": {},
     "output_type": "execute_result"
    }
   ],
   "source": [
    "plt.plot(range(epochs), losses)\n",
    "plt.ylabel('Loss')\n",
    "plt.xlabel('epoch')"
   ]
  },
  {
   "cell_type": "code",
   "execution_count": 14,
   "metadata": {
    "colab": {
     "base_uri": "https://localhost:8080/",
     "height": 347
    },
    "colab_type": "code",
    "id": "VwsPWhWJFONF",
    "outputId": "99806a4f-2eca-465e-d166-ae39ea701b32"
   },
   "outputs": [
    {
     "data": {
      "image/png": "[encoded data removed]",
      "text/plain": [
       "<matplotlib.figure.Figure at 0x128de4940>"
      ]
     },
     "metadata": {},
     "output_type": "display_data"
    }
   ],
   "source": [
    "plot_fit(\"Trained Model\")"
   ]
  },
  {
   "cell_type": "code",
   "execution_count": 0,
   "metadata": {
    "colab": {},
    "colab_type": "code",
    "collapsed": true,
    "id": "Eyc77EKUFYgZ"
   },
   "outputs": [],
   "source": []
  }
 ],
 "metadata": {
  "colab": {
   "name": "Linear Regression.ipynb",
   "provenance": [],
   "version": "0.3.2"
  },
  "kernelspec": {
   "display_name": "Python 3",
   "language": "python",
   "name": "python3"
  },
  "language_info": {
   "codemirror_mode": {
    "name": "ipython",
    "version": 3
   },
   "file_extension": ".py",
   "mimetype": "text/x-python",
   "name": "python",
   "nbconvert_exporter": "python",
   "pygments_lexer": "ipython3",
   "version": "3.6.7"
  }
 },
 "nbformat": 4,
 "nbformat_minor": 1
}
